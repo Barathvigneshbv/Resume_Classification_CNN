{
 "cells": [
  {
   "cell_type": "markdown",
   "metadata": {},
   "source": [
    "Converting pdf to png file"
   ]
  },
  {
   "cell_type": "code",
   "execution_count": null,
   "metadata": {},
   "outputs": [],
   "source": [
    "from pdf2image import convert_from_path\n",
    "import os\n",
    "\n",
    "def convert_pdf_to_images(pdf_path, output_folder):\n",
    "    # Create the output folder if it doesn't exist\n",
    "    if not os.path.exists(output_folder):\n",
    "        os.makedirs(output_folder)\n",
    "\n",
    "    for file in os.listdir(source_folder):\n",
    "        if file.endswith('.pdf'):\n",
    "            pdf_path = os.path.join(source_folder, file)\n",
    "            print(pdf_path)\n",
    "            base_word = os.path.splitext(os.path.basename(file))[0]\n",
    "            images = convert_from_path(pdf_path,500,poppler_path= r'C:\\Program Files (x86)\\poppler-23.11.0\\Library\\bin')\n",
    "            for i, image in enumerate(images):\n",
    "                image_filename = f\"{base_word}_{i + 1}.png\"\n",
    "                image_path = os.path.join(output_folder, image_filename)\n",
    "                print(image_path)\n",
    "                image.save(image_path, \"PNG\")\n",
    "    print(\"PDF to images conversion completed.\")\n",
    "\n",
    "if __name__ == \"__main__\":\n",
    "    # Specify the PDF file path and the output folder path\n",
    "    pdf_file_path = \"D:/Job_Search_Assignments/Bureau_Assignment/archive/data/resume\"\n",
    "    output_folder_path = \"D:/Job_Search_Assignments/Bureau_Assignment/archive/data/images\"\n",
    "\n",
    "    # Call the function to convert PDF to images\n",
    "    convert_pdf_to_images(pdf_file_path, output_folder_path)"
   ]
  },
  {
   "cell_type": "markdown",
   "metadata": {},
   "source": [
    "Covert TIL or JPG extension files to PNG file"
   ]
  },
  {
   "cell_type": "code",
   "execution_count": null,
   "metadata": {},
   "outputs": [],
   "source": [
    "from PIL import Image\n",
    "import os\n",
    "\n",
    "def convert_tif_to_png_inplace(folder_path):\n",
    "    # Iterate through all TIF files in the folder\n",
    "    count = 0\n",
    "    for file in os.listdir(folder_path):\n",
    "        if file.lower().endswith('.tif') or file.lower().endswith('.tiff') or file.lower().endswith('.jpg'):\n",
    "            count= count +1 \n",
    "            tif_path = os.path.join(folder_path, file)\n",
    "\n",
    "            # Open the TIF file\n",
    "            with Image.open(tif_path) as img:\n",
    "                # Convert to PNG format\n",
    "                png_path = os.path.join(folder_path, os.path.splitext(file)[0] + \".png\")\n",
    "                img.save(png_path, \"PNG\")\n",
    "\n",
    "            # Remove the original TIF file\n",
    "            os.remove(tif_path)\n",
    "    \n",
    "    print(\"Total Images:\", count)\n",
    "    print(\"TIF to PNG conversion completed.\")\n",
    "\n",
    "if __name__ == \"__main__\":\n",
    "    # Specify the folder path containing TIF files\n",
    "    folder_path = r'D:\\Job_Search_Assignments\\Bureau_Assignment\\data\\non_resume'\n",
    "\n",
    "    # Call the function to convert TIF to PNG in the same folder\n",
    "    convert_tif_to_png_inplace(folder_path)\n"
   ]
  }
 ],
 "metadata": {
  "kernelspec": {
   "display_name": "annotate",
   "language": "python",
   "name": "python3"
  },
  "language_info": {
   "codemirror_mode": {
    "name": "ipython",
    "version": 3
   },
   "file_extension": ".py",
   "mimetype": "text/x-python",
   "name": "python",
   "nbconvert_exporter": "python",
   "pygments_lexer": "ipython3",
   "version": "3.9.16"
  },
  "orig_nbformat": 4
 },
 "nbformat": 4,
 "nbformat_minor": 2
}

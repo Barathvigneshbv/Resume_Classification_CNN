{
 "cells": [
  {
   "cell_type": "markdown",
   "id": "ac45e6a2-1bfc-44cc-b43c-c99d62b43463",
   "metadata": {},
   "source": [
    "## Import Libraries"
   ]
  },
  {
   "cell_type": "code",
   "execution_count": 1,
   "id": "1c65bac6",
   "metadata": {},
   "outputs": [],
   "source": [
    "import numpy as np\n",
    "import matplotlib.pyplot as plt\n",
    "import os\n",
    "import seaborn as sns\n",
    "%matplotlib inline\n",
    "\n",
    "from sklearn.metrics import confusion_matrix, classification_report\n",
    "\n",
    "import tensorflow as tf\n",
    "import keras\n",
    "from tensorflow.keras.models import Sequential\n",
    "from tensorflow.keras.layers import Activation, BatchNormalization, Conv2D, Dense, Dropout, Flatten, MaxPooling2D\n",
    "from tensorflow.keras.preprocessing.image import ImageDataGenerator\n",
    "from tensorflow.keras.optimizers.legacy import Adam\n",
    "# from tensorflow.keras.optimizers import Adam\n",
    "from tensorflow.keras.losses import CategoricalCrossentropy\n",
    "from tensorflow.keras.regularizers import l2\n",
    "from tensorflow.keras.callbacks import ReduceLROnPlateau, EarlyStopping\n",
    "tf.config.set_visible_devices([],'GPU')"
   ]
  },
  {
   "cell_type": "markdown",
   "id": "2e7b114a-ef28-4a81-8331-123cddd32aa3",
   "metadata": {},
   "source": [
    "## Splitting the train and test dataset"
   ]
  },
  {
   "cell_type": "code",
   "execution_count": 6,
   "id": "469c80d3",
   "metadata": {},
   "outputs": [],
   "source": [
    "train_dataset_path = r'D:\\Job_Search_Assignments\\Bureau_Assignment\\data\\train'\n",
    "validation_dataset_path = r'D:\\Job_Search_Assignments\\Bureau_Assignment\\data\\test'"
   ]
  },
  {
   "cell_type": "markdown",
   "id": "52981e37-9753-4e8b-8580-1f51a4217ef5",
   "metadata": {},
   "source": [
    "## Data preprocessing"
   ]
  },
  {
   "cell_type": "markdown",
   "id": "4270ebf3-a421-4b1a-9edd-ac33473c10b1",
   "metadata": {},
   "source": [
    "### Initializing image dimensions and batch size "
   ]
  },
  {
   "cell_type": "code",
   "execution_count": 7,
   "id": "623911ac",
   "metadata": {},
   "outputs": [],
   "source": [
    "IMG_WIDTH = 224\n",
    "IMG_HEIGHT = 224\n",
    "BATCH_SIZE = 32"
   ]
  },
  {
   "cell_type": "markdown",
   "id": "cf520676-4955-446f-a74a-86bbe66dfe3f",
   "metadata": {},
   "source": [
    "### Data Augumentation"
   ]
  },
  {
   "cell_type": "code",
   "execution_count": 8,
   "id": "2deda002",
   "metadata": {},
   "outputs": [
    {
     "name": "stdout",
     "output_type": "stream",
     "text": [
      "Found 4000 images belonging to 2 classes.\n"
     ]
    }
   ],
   "source": [
    "train_datagen = ImageDataGenerator(rescale=1.0/255,\n",
    "                                  zoom_range=0.2,\n",
    "                                  width_shift_range=0.2,\n",
    "                                  height_shift_range=0.2,\n",
    "                                  fill_mode='nearest')\n",
    "train_generator = train_datagen.flow_from_directory(train_dataset_path,\n",
    "                                                   target_size=(IMG_WIDTH, IMG_HEIGHT),\n",
    "                                                   batch_size=BATCH_SIZE,\n",
    "                                                   class_mode='binary',\n",
    "                                                   shuffle=True)"
   ]
  },
  {
   "cell_type": "code",
   "execution_count": 9,
   "id": "031365f6",
   "metadata": {},
   "outputs": [
    {
     "name": "stdout",
     "output_type": "stream",
     "text": [
      "Found 1000 images belonging to 2 classes.\n"
     ]
    }
   ],
   "source": [
    "validation_datagen = ImageDataGenerator(rescale=1.0/255)\n",
    "validation_generator = validation_datagen.flow_from_directory(validation_dataset_path,\n",
    "                                                             target_size=(IMG_WIDTH, IMG_HEIGHT),\n",
    "                                                             batch_size=BATCH_SIZE,\n",
    "                                                             class_mode='binary',\n",
    "                                                             shuffle=True)"
   ]
  },
  {
   "cell_type": "code",
   "execution_count": 10,
   "id": "237125e4",
   "metadata": {},
   "outputs": [
    {
     "name": "stdout",
     "output_type": "stream",
     "text": [
      "Label Mappings for classes present in the training and validation datasets\n",
      "\n",
      "0 : non_resume\n",
      "1 : resume\n"
     ]
    }
   ],
   "source": [
    "labels = {value: key for key, value in train_generator.class_indices.items()}\n",
    "\n",
    "print(\"Label Mappings for classes present in the training and validation datasets\\n\")\n",
    "for key, value in labels.items():\n",
    "    print(f\"{key} : {value}\")"
   ]
  },
  {
   "cell_type": "markdown",
   "id": "4ea8f00d-994c-43d1-b29e-5faeda04a985",
   "metadata": {},
   "source": [
    "## CNN Model Architecture "
   ]
  },
  {
   "cell_type": "code",
   "execution_count": 11,
   "id": "66dd8532",
   "metadata": {},
   "outputs": [],
   "source": [
    "def create_model():\n",
    "     model = Sequential([\n",
    "        Conv2D(filters=128, kernel_size=(5, 5), padding='valid', input_shape=(IMG_WIDTH, IMG_HEIGHT, 3)),\n",
    "        Activation('relu'),\n",
    "        MaxPooling2D(pool_size=(2, 2)),\n",
    "        BatchNormalization(),\n",
    "        \n",
    "        Conv2D(filters=64, kernel_size=(3, 3), padding='valid', kernel_regularizer=l2(0.00005)),\n",
    "        Activation('relu'),\n",
    "        MaxPooling2D(pool_size=(2, 2)),\n",
    "        BatchNormalization(),\n",
    "        \n",
    "        Conv2D(filters=32, kernel_size=(3, 3), padding='valid', kernel_regularizer=l2(0.00005)),\n",
    "        Activation('relu'),\n",
    "        MaxPooling2D(pool_size=(2, 2)),\n",
    "        BatchNormalization(),\n",
    "        \n",
    "        Flatten(),\n",
    "        \n",
    "        Dense(units=256, activation='relu'),\n",
    "        Dropout(0.5),\n",
    "        Dense(units=1, activation='sigmoid')  # Binary classification, use 1 output neuron with 'sigmoid' activation\n",
    "    ])\n",
    "    \n",
    "     return model"
   ]
  },
  {
   "cell_type": "code",
   "execution_count": 12,
   "id": "a4dc1554",
   "metadata": {},
   "outputs": [],
   "source": [
    "cnn_model = create_model()"
   ]
  },
  {
   "cell_type": "code",
   "execution_count": 13,
   "id": "4331e9cc",
   "metadata": {},
   "outputs": [
    {
     "name": "stdout",
     "output_type": "stream",
     "text": [
      "Model: \"sequential\"\n",
      "_________________________________________________________________\n",
      " Layer (type)                Output Shape              Param #   \n",
      "=================================================================\n",
      " conv2d (Conv2D)             (None, 220, 220, 128)     9728      \n",
      "                                                                 \n",
      " activation (Activation)     (None, 220, 220, 128)     0         \n",
      "                                                                 \n",
      " max_pooling2d (MaxPooling2D  (None, 110, 110, 128)    0         \n",
      " )                                                               \n",
      "                                                                 \n",
      " batch_normalization (BatchN  (None, 110, 110, 128)    512       \n",
      " ormalization)                                                   \n",
      "                                                                 \n",
      " conv2d_1 (Conv2D)           (None, 108, 108, 32)      36896     \n",
      "                                                                 \n",
      " activation_1 (Activation)   (None, 108, 108, 32)      0         \n",
      "                                                                 \n",
      " max_pooling2d_1 (MaxPooling  (None, 54, 54, 32)       0         \n",
      " 2D)                                                             \n",
      "                                                                 \n",
      " batch_normalization_1 (Batc  (None, 54, 54, 32)       128       \n",
      " hNormalization)                                                 \n",
      "                                                                 \n",
      " flatten (Flatten)           (None, 93312)             0         \n",
      "                                                                 \n",
      " dense (Dense)               (None, 256)               23888128  \n",
      "                                                                 \n",
      " dropout (Dropout)           (None, 256)               0         \n",
      "                                                                 \n",
      " dense_1 (Dense)             (None, 1)                 257       \n",
      "                                                                 \n",
      "=================================================================\n",
      "Total params: 23,935,649\n",
      "Trainable params: 23,935,329\n",
      "Non-trainable params: 320\n",
      "_________________________________________________________________\n",
      "None\n"
     ]
    }
   ],
   "source": [
    "print(cnn_model.summary())"
   ]
  },
  {
   "cell_type": "markdown",
   "id": "448d84f4-9b1b-4f2b-94ee-d39ea16a0a09",
   "metadata": {},
   "source": [
    "## Hyperparameters tuning (Early Stopping, Learning Rate)"
   ]
  },
  {
   "cell_type": "code",
   "execution_count": 14,
   "id": "8c68a60f",
   "metadata": {},
   "outputs": [],
   "source": [
    "reduce_lr = ReduceLROnPlateau(monitor='val_loss', factor=np.sqrt(0.1), patience=5)"
   ]
  },
  {
   "cell_type": "code",
   "execution_count": 15,
   "id": "a11ec44f",
   "metadata": {},
   "outputs": [],
   "source": [
    "optimizer = Adam(learning_rate=0.001)"
   ]
  },
  {
   "cell_type": "markdown",
   "id": "5964fe25-888b-43b6-96c0-a2d72a5c8dad",
   "metadata": {},
   "source": [
    "## Model Compilation"
   ]
  },
  {
   "cell_type": "code",
   "execution_count": 16,
   "id": "029df189",
   "metadata": {},
   "outputs": [],
   "source": [
    "cnn_model.compile(optimizer=optimizer, loss= keras.losses.binary_crossentropy, metrics=['accuracy'])"
   ]
  },
  {
   "cell_type": "markdown",
   "id": "ad984148-4eaf-44b1-8506-4130ae1cbb4c",
   "metadata": {},
   "source": [
    "## Model Training"
   ]
  },
  {
   "cell_type": "code",
   "execution_count": 17,
   "id": "fd70bca9",
   "metadata": {},
   "outputs": [
    {
     "name": "stdout",
     "output_type": "stream",
     "text": [
      "Epoch 1/10\n",
      "125/125 - 1258s - loss: 3.3185 - accuracy: 0.7795 - val_loss: 85.4443 - val_accuracy: 0.5120 - lr: 0.0010 - 1258s/epoch - 10s/step\n",
      "Epoch 2/10\n",
      "125/125 - 1033s - loss: 3.5316 - accuracy: 0.8023 - val_loss: 47.5129 - val_accuracy: 0.5640 - lr: 0.0010 - 1033s/epoch - 8s/step\n",
      "Epoch 3/10\n",
      "125/125 - 560s - loss: 1.6077 - accuracy: 0.8420 - val_loss: 375.7244 - val_accuracy: 0.5000 - lr: 0.0010 - 560s/epoch - 4s/step\n",
      "Epoch 4/10\n",
      "125/125 - 657s - loss: 1.0805 - accuracy: 0.8577 - val_loss: 1812.0653 - val_accuracy: 0.5000 - lr: 0.0010 - 657s/epoch - 5s/step\n",
      "Epoch 5/10\n",
      "125/125 - 1238s - loss: 0.5686 - accuracy: 0.8645 - val_loss: 1482.2679 - val_accuracy: 0.5000 - lr: 0.0010 - 1238s/epoch - 10s/step\n",
      "Epoch 6/10\n",
      "125/125 - 1245s - loss: 0.7579 - accuracy: 0.8597 - val_loss: 531.0414 - val_accuracy: 0.5010 - lr: 0.0010 - 1245s/epoch - 10s/step\n",
      "Epoch 7/10\n",
      "125/125 - 1244s - loss: 0.5841 - accuracy: 0.8610 - val_loss: 941.1079 - val_accuracy: 0.5000 - lr: 0.0010 - 1244s/epoch - 10s/step\n",
      "Epoch 8/10\n",
      "125/125 - 1066s - loss: 0.3337 - accuracy: 0.8808 - val_loss: 75.3259 - val_accuracy: 0.6880 - lr: 3.1623e-04 - 1066s/epoch - 9s/step\n",
      "Epoch 9/10\n",
      "125/125 - 602s - loss: 0.3156 - accuracy: 0.8913 - val_loss: 24.9066 - val_accuracy: 0.6010 - lr: 3.1623e-04 - 602s/epoch - 5s/step\n",
      "Epoch 10/10\n",
      "125/125 - 599s - loss: 0.2855 - accuracy: 0.8857 - val_loss: 2.0673 - val_accuracy: 0.7360 - lr: 3.1623e-04 - 599s/epoch - 5s/step\n",
      "CPU times: total: 4h 5min 23s\n",
      "Wall time: 2h 38min 26s\n"
     ]
    }
   ],
   "source": [
    "%%time\n",
    "history = cnn_model.fit(train_generator, epochs= 10, validation_data=validation_generator, verbose=2, callbacks=[reduce_lr])"
   ]
  },
  {
   "cell_type": "markdown",
   "id": "bab16fc0-2614-4f17-841c-b0c5e833acee",
   "metadata": {},
   "source": [
    "## Model Evaluation"
   ]
  },
  {
   "cell_type": "code",
   "execution_count": 20,
   "id": "6fd072a4-22a2-4917-880e-94ef14ebebc3",
   "metadata": {},
   "outputs": [
    {
     "name": "stdout",
     "output_type": "stream",
     "text": [
      "125/125 [==============================] - 400s 3s/step - loss: 0.2707 - accuracy: 0.8903\n"
     ]
    },
    {
     "data": {
      "text/plain": [
       "[0.27068501710891724, 0.890250027179718]"
      ]
     },
     "execution_count": 20,
     "metadata": {},
     "output_type": "execute_result"
    }
   ],
   "source": [
    "cnn_model.evaluate(train_generator)"
   ]
  },
  {
   "cell_type": "code",
   "execution_count": 21,
   "id": "db164b13-2453-4dcc-982f-3b18968a155f",
   "metadata": {},
   "outputs": [
    {
     "name": "stdout",
     "output_type": "stream",
     "text": [
      "32/32 [==============================] - 88s 3s/step - loss: 2.0673 - accuracy: 0.7360\n"
     ]
    },
    {
     "data": {
      "text/plain": [
       "[2.067267656326294, 0.7360000014305115]"
      ]
     },
     "execution_count": 21,
     "metadata": {},
     "output_type": "execute_result"
    }
   ],
   "source": [
    "cnn_model.evaluate(validation_generator)"
   ]
  },
  {
   "cell_type": "markdown",
   "id": "fe0ecb83-6e11-4a2a-80ac-42839b784f69",
   "metadata": {},
   "source": [
    "## Model Results"
   ]
  },
  {
   "cell_type": "code",
   "execution_count": 24,
   "id": "a640d727-0453-4964-a0b3-305ef6023412",
   "metadata": {},
   "outputs": [
    {
     "name": "stdout",
     "output_type": "stream",
     "text": [
      "32/32 [==============================] - 90s 3s/step\n"
     ]
    },
    {
     "data": {
      "text/plain": [
       "array([[108, 392],\n",
       "       [130, 370]], dtype=int64)"
      ]
     },
     "execution_count": 24,
     "metadata": {},
     "output_type": "execute_result"
    }
   ],
   "source": [
    "predictions = cnn_model.predict(validation_generator)\n",
    "predicted_classes = np.round(predictions).flatten()\n",
    "\n",
    "# Get true labels\n",
    "true_labels = validation_generator.classes\n",
    "\n",
    "# Generate confusion matrix\n",
    "conf_matrix = confusion_matrix(true_labels, predicted_classes)\n",
    "conf_matrix\n"
   ]
  },
  {
   "cell_type": "code",
   "execution_count": 27,
   "id": "a2b7f47a-5d1a-435e-acaf-0e91a00de920",
   "metadata": {},
   "outputs": [
    {
     "data": {
      "image/png": "[encoded data removed]",
      "text/plain": [
       "<Figure size 300x300 with 1 Axes>"
      ]
     },
     "metadata": {},
     "output_type": "display_data"
    },
    {
     "name": "stdout",
     "output_type": "stream",
     "text": [
      "Classification Report:\n",
      "               precision    recall  f1-score   support\n",
      "\n",
      "  Non_Resume       0.45      0.22      0.29       500\n",
      "      Resume       0.49      0.74      0.59       500\n",
      "\n",
      "    accuracy                           0.48      1000\n",
      "   macro avg       0.47      0.48      0.44      1000\n",
      "weighted avg       0.47      0.48      0.44      1000\n",
      "\n"
     ]
    }
   ],
   "source": [
    "# Plot confusion matrix\n",
    "plt.figure(figsize=(3,3))\n",
    "sns.heatmap(conf_matrix, annot=True, fmt='d', cmap='Blues', cbar=False,\n",
    "            xticklabels=['Non_Resume', 'Resume'], yticklabels=['Non_Resume', 'Resume'])\n",
    "plt.title('Confusion Matrix')\n",
    "plt.xlabel('Predicted')\n",
    "plt.ylabel('True')\n",
    "plt.show()\n",
    "\n",
    "# Print classification report\n",
    "class_report = classification_report(true_labels, predicted_classes, target_names=['Non_Resume', 'Resume'])\n",
    "print(\"Classification Report:\\n\", class_report)"
   ]
  }
 ],
 "metadata": {
  "kernelspec": {
   "display_name": "Python 3 (ipykernel)",
   "language": "python",
   "name": "python3"
  },
  "language_info": {
   "codemirror_mode": {
    "name": "ipython",
    "version": 3
   },
   "file_extension": ".py",
   "mimetype": "text/x-python",
   "name": "python",
   "nbconvert_exporter": "python",
   "pygments_lexer": "ipython3",
   "version": "3.10.13"
  }
 },
 "nbformat": 4,
 "nbformat_minor": 5
}
